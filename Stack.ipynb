{
 "cells": [
  {
   "cell_type": "code",
   "execution_count": 1,
   "id": "d435c9c8",
   "metadata": {},
   "outputs": [
    {
     "name": "stdout",
     "output_type": "stream",
     "text": [
      "[]\n"
     ]
    }
   ],
   "source": [
    "class stack1:\n",
    "    def __init__(self):\n",
    "        self.list=[]\n",
    "        \n",
    "myStack= stack1()\n",
    "print(myStack.list)"
   ]
  },
  {
   "cell_type": "code",
   "execution_count": null,
   "id": "971a6b4f",
   "metadata": {},
   "outputs": [],
   "source": [
    "#or"
   ]
  },
  {
   "cell_type": "code",
   "execution_count": 2,
   "id": "e26dc2a8",
   "metadata": {},
   "outputs": [
    {
     "name": "stdout",
     "output_type": "stream",
     "text": [
      "[]\n"
     ]
    }
   ],
   "source": [
    "class stack2:\n",
    "    def __init__(self):\n",
    "        self.list = []\n",
    "\n",
    "    def __str__(self):\n",
    "        return str(self.list)\n",
    "\n",
    "myStack1 = stack2()\n",
    "print(myStack1)\n"
   ]
  },
  {
   "cell_type": "markdown",
   "id": "e8873051",
   "metadata": {},
   "source": [
    "### Create Stack Operation Methods"
   ]
  },
  {
   "cell_type": "code",
   "execution_count": 3,
   "id": "aa1eeceb",
   "metadata": {},
   "outputs": [
    {
     "name": "stdout",
     "output_type": "stream",
     "text": [
      "[]\n"
     ]
    }
   ],
   "source": [
    "class stack1:\n",
    "    def __init__(self):\n",
    "        self.list=[] \n",
    "    \n",
    "    def __str__(self):\n",
    "        return str(self.list)\n",
    "    \n",
    "    def isEmpty(self):\n",
    "        if self.list == []:\n",
    "            return True\n",
    "        else:\n",
    "            return False \n",
    "    \n",
    "    def push(self,value):\n",
    "        return self.list.append(value)\n",
    "    \n",
    "    def pop(self):\n",
    "        if self.isEmpty():\n",
    "            return \"Stack is Empty\"\n",
    "        else:\n",
    "            self.list.pop()\n",
    "        \n",
    "    def peek(self):\n",
    "        if self.isEmpty():\n",
    "            return \"Stack is Empty\"\n",
    "        else:\n",
    "            return self.list[-1]\n",
    "        \n",
    "    def delete(self):\n",
    "        self.list = None\n",
    "        \n",
    "        \n",
    "myStack= stack1()\n",
    "print(myStack.list)"
   ]
  },
  {
   "cell_type": "code",
   "execution_count": 4,
   "id": "e3bdd652",
   "metadata": {},
   "outputs": [
    {
     "name": "stdout",
     "output_type": "stream",
     "text": [
      "[10, 20, 30]\n"
     ]
    }
   ],
   "source": [
    "myStack.push(10)\n",
    "myStack.push(20)\n",
    "myStack.push(30)\n",
    "print(myStack)"
   ]
  },
  {
   "cell_type": "code",
   "execution_count": 5,
   "id": "82b99121",
   "metadata": {},
   "outputs": [
    {
     "data": {
      "text/plain": [
       "False"
      ]
     },
     "execution_count": 5,
     "metadata": {},
     "output_type": "execute_result"
    }
   ],
   "source": [
    "myStack.isEmpty()"
   ]
  },
  {
   "cell_type": "code",
   "execution_count": 6,
   "id": "6f63b67b",
   "metadata": {},
   "outputs": [
    {
     "data": {
      "text/plain": [
       "30"
      ]
     },
     "execution_count": 6,
     "metadata": {},
     "output_type": "execute_result"
    }
   ],
   "source": [
    "myStack.peek()"
   ]
  },
  {
   "cell_type": "code",
   "execution_count": 7,
   "id": "48e3504c",
   "metadata": {},
   "outputs": [
    {
     "name": "stdout",
     "output_type": "stream",
     "text": [
      "[10, 20]\n"
     ]
    }
   ],
   "source": [
    "myStack.pop()\n",
    "print(myStack)"
   ]
  },
  {
   "cell_type": "code",
   "execution_count": 8,
   "id": "51b213aa",
   "metadata": {},
   "outputs": [
    {
     "data": {
      "text/plain": [
       "20"
      ]
     },
     "execution_count": 8,
     "metadata": {},
     "output_type": "execute_result"
    }
   ],
   "source": [
    "myStack.peek()"
   ]
  },
  {
   "cell_type": "markdown",
   "id": "ee91e7af",
   "metadata": {},
   "source": [
    "### Fixed Size Stack"
   ]
  },
  {
   "cell_type": "code",
   "execution_count": 10,
   "id": "f9bbf81a",
   "metadata": {},
   "outputs": [],
   "source": [
    "class stack2:\n",
    "    def __init__(self,size):\n",
    "        self.size=size\n",
    "        self.list=[] \n",
    "    \n",
    "    def __str__(self):\n",
    "        return str(self.list)\n",
    "    \n",
    "    def isEmpty(self):\n",
    "        if self.list == []:\n",
    "            return True\n",
    "        else:\n",
    "            return False \n",
    "    \n",
    "    def push(self,value):\n",
    "        if len(self.list) < self.size:\n",
    "            return self.list.append(value)\n",
    "        \n",
    "        else:\n",
    "            return \"Stack is Full\"\n",
    "        \n",
    "    \n",
    "    def pop(self):\n",
    "        if self.isEmpty():\n",
    "            return \"Stack is Empty\"\n",
    "        else:\n",
    "            self.list.pop()\n",
    "        \n",
    "        "
   ]
  },
  {
   "cell_type": "code",
   "execution_count": 11,
   "id": "9f9ccdc3",
   "metadata": {},
   "outputs": [
    {
     "name": "stdout",
     "output_type": "stream",
     "text": [
      "[]\n"
     ]
    }
   ],
   "source": [
    "myFStack= stack2(3)\n",
    "print(myFStack.list)"
   ]
  },
  {
   "cell_type": "code",
   "execution_count": 12,
   "id": "db02362d",
   "metadata": {},
   "outputs": [
    {
     "name": "stdout",
     "output_type": "stream",
     "text": [
      "[20, 40, 60]\n"
     ]
    }
   ],
   "source": [
    "myFStack.push(20)\n",
    "myFStack.push(40)\n",
    "myFStack.push(60)\n",
    "print(myFStack)"
   ]
  },
  {
   "cell_type": "code",
   "execution_count": 13,
   "id": "10eec635",
   "metadata": {},
   "outputs": [
    {
     "data": {
      "text/plain": [
       "'Stack is Full'"
      ]
     },
     "execution_count": 13,
     "metadata": {},
     "output_type": "execute_result"
    }
   ],
   "source": [
    "myFStack.push(80)"
   ]
  },
  {
   "cell_type": "markdown",
   "id": "88bb5f4e",
   "metadata": {},
   "source": [
    "Also can make method to check stack is full or not\n",
    "\n",
    "def is_full(self):\n",
    "        return len(self.stack) == self.size"
   ]
  }
 ],
 "metadata": {
  "kernelspec": {
   "display_name": "Python 3 (ipykernel)",
   "language": "python",
   "name": "python3"
  },
  "language_info": {
   "codemirror_mode": {
    "name": "ipython",
    "version": 3
   },
   "file_extension": ".py",
   "mimetype": "text/x-python",
   "name": "python",
   "nbconvert_exporter": "python",
   "pygments_lexer": "ipython3",
   "version": "3.9.12"
  },
  "varInspector": {
   "cols": {
    "lenName": 16,
    "lenType": 16,
    "lenVar": 40
   },
   "kernels_config": {
    "python": {
     "delete_cmd_postfix": "",
     "delete_cmd_prefix": "del ",
     "library": "var_list.py",
     "varRefreshCmd": "print(var_dic_list())"
    },
    "r": {
     "delete_cmd_postfix": ") ",
     "delete_cmd_prefix": "rm(",
     "library": "var_list.r",
     "varRefreshCmd": "cat(var_dic_list()) "
    }
   },
   "types_to_exclude": [
    "module",
    "function",
    "builtin_function_or_method",
    "instance",
    "_Feature"
   ],
   "window_display": false
  }
 },
 "nbformat": 4,
 "nbformat_minor": 5
}
